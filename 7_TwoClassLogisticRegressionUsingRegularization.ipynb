{
 "cells": [
  {
   "cell_type": "markdown",
   "metadata": {},
   "source": [
    "import matplotlib.pyplot as plt\n",
    "%matplotlib inline\n",
    "import pandas as pd\n",
    "import numpy as np"
   ]
  },
  {
   "cell_type": "code",
   "execution_count": 83,
   "metadata": {},
   "outputs": [],
   "source": [
    "data=pd.read_csv(\"E:\\Python\\PracticleData\\examdata.txt\",names=['exam1','exam2','admitted'])"
   ]
  },
  {
   "cell_type": "code",
   "execution_count": 84,
   "metadata": {},
   "outputs": [],
   "source": [
    "positive=data[data['admitted'].isin([1])]\n",
    "negative=data[data['admitted'].isin([0])]"
   ]
  },
  {
   "cell_type": "code",
   "execution_count": 85,
   "metadata": {},
   "outputs": [],
   "source": [
    "def sigmoid(z):\n",
    "    return 1/(1+np.exp(-z))"
   ]
  },
  {
   "cell_type": "code",
   "execution_count": 86,
   "metadata": {},
   "outputs": [],
   "source": [
    "def computeCost(X,y,theta):\n",
    "    theta = np.matrix(theta)\n",
    "    X = np.matrix(X)\n",
    "    y = np.matrix(y) \n",
    "    first = np.multiply(-y,np.log(sigmoid(X*theta.T)))\n",
    "    second = np.multiply((1-y),np.log(1-sigmoid(X*theta.T)))\n",
    "    return np.sum(first-second)/len(X)\n",
    "    "
   ]
  },
  {
   "cell_type": "code",
   "execution_count": 87,
   "metadata": {},
   "outputs": [],
   "source": [
    "data.insert(0,'ones',1)\n",
    "X=data.iloc[:,0:3]\n",
    "y=data.iloc[:,3:4]"
   ]
  },
  {
   "cell_type": "code",
   "execution_count": 88,
   "metadata": {},
   "outputs": [
    {
     "data": {
      "text/plain": [
       "(pandas.core.frame.DataFrame, pandas.core.frame.DataFrame, numpy.ndarray)"
      ]
     },
     "execution_count": 88,
     "metadata": {},
     "output_type": "execute_result"
    }
   ],
   "source": [
    "theta=np.zeros((1,3))\n",
    "type(X),type(y),type(theta)"
   ]
  },
  {
   "cell_type": "code",
   "execution_count": 89,
   "metadata": {},
   "outputs": [],
   "source": [
    "c=computeCost(X,y,theta)"
   ]
  },
  {
   "cell_type": "code",
   "execution_count": 90,
   "metadata": {},
   "outputs": [
    {
     "data": {
      "text/plain": [
       "0.6931471805599453"
      ]
     },
     "execution_count": 90,
     "metadata": {},
     "output_type": "execute_result"
    }
   ],
   "source": [
    "c"
   ]
  },
  {
   "cell_type": "code",
   "execution_count": 91,
   "metadata": {},
   "outputs": [],
   "source": [
    "X=np.matrix(X)\n",
    "y=np.matrix(y)\n",
    "theta=np.matrix(theta)"
   ]
  },
  {
   "cell_type": "code",
   "execution_count": 92,
   "metadata": {},
   "outputs": [],
   "source": [
    "def gradientDescent(X,y,theta,alpha, iterations,lam):\n",
    "    temp = np.matrix(np.zeros((1,3)))\n",
    "    parameters = 3  #theta0,theta1,theta2\n",
    "    cost = np.zeros(iterations) #error of every iteration\n",
    "    for i in range(iterations):\n",
    "        error = sigmoid(X*theta.T) - y\n",
    "        for j in range(parameters):\n",
    "            term = np.multiply(error, X[:,j]) \n",
    "            temp[0,j] = theta[0,j]*(1-((alpha*lam)/len(X))) - (alpha* np.sum(term))\n",
    "        theta = temp\n",
    "        cost[i] = computeCost(X,y,theta) \n",
    "    return theta,cost"
   ]
  },
  {
   "cell_type": "code",
   "execution_count": 93,
   "metadata": {},
   "outputs": [],
   "source": [
    "a,b=gradientDescent(X,y,theta,0.00001,1000000,1)"
   ]
  },
  {
   "cell_type": "code",
   "execution_count": 94,
   "metadata": {},
   "outputs": [
    {
     "data": {
      "text/plain": [
       "0.22830368869433257"
      ]
     },
     "execution_count": 94,
     "metadata": {},
     "output_type": "execute_result"
    }
   ],
   "source": [
    "b[-1]"
   ]
  },
  {
   "cell_type": "code",
   "execution_count": 95,
   "metadata": {},
   "outputs": [],
   "source": [
    "h=sigmoid(X*a.T)\n"
   ]
  },
  {
   "cell_type": "code",
   "execution_count": 96,
   "metadata": {},
   "outputs": [],
   "source": [
    "for i in range(len(h)):\n",
    "    if h[i]>0.5:\n",
    "        h[i]=1\n",
    "    else:\n",
    "        h[i]=0"
   ]
  },
  {
   "cell_type": "code",
   "execution_count": 97,
   "metadata": {},
   "outputs": [],
   "source": [
    "count=0\n",
    "for i in range(len(y)):\n",
    "    if y[i]==h[i]:\n",
    "        count+=1"
   ]
  },
  {
   "cell_type": "code",
   "execution_count": 98,
   "metadata": {},
   "outputs": [],
   "source": [
    "accuracy=(count*100)/len(X)"
   ]
  },
  {
   "cell_type": "code",
   "execution_count": 99,
   "metadata": {},
   "outputs": [
    {
     "data": {
      "text/plain": [
       "89.0"
      ]
     },
     "execution_count": 99,
     "metadata": {},
     "output_type": "execute_result"
    }
   ],
   "source": [
    "accuracy"
   ]
  },
  {
   "cell_type": "code",
   "execution_count": 100,
   "metadata": {},
   "outputs": [],
   "source": [
    "l1=[]\n",
    "l2=[]\n",
    "x1=np.linspace(data.exam1.min(),data.exam1.max(),500)\n",
    "x2=np.linspace(data.exam2.min(),data.exam2.max(),500)\n",
    "for i in x1:\n",
    "    for j in x2:\n",
    "        d = sigmoid(a[0,0]+a[0,1]*i+a[0,2]*j)\n",
    "        if d>0.49 and d< 0.51:\n",
    "            l1.append(i)\n",
    "            l2.append(j)\n",
    "                \n"
   ]
  },
  {
   "cell_type": "code",
   "execution_count": 101,
   "metadata": {},
   "outputs": [
    {
     "data": {
      "text/plain": [
       "Text(0, 0.5, 'Exam2 score')"
      ]
     },
     "execution_count": 101,
     "metadata": {},
     "output_type": "execute_result"
    },
    {
     "data": {
      "image/png": "[encoded data removed]",
      "text/plain": [
       "<Figure size 864x576 with 1 Axes>"
      ]
     },
     "metadata": {
      "needs_background": "light"
     },
     "output_type": "display_data"
    }
   ],
   "source": [
    "fig,ax = plt.subplots(figsize=(12,8))                          \n",
    "ax.scatter(positive['exam1'],positive['exam2'],c='b',marker='o',s=50,label='exam1')  \n",
    "ax.scatter(negative['exam1'],negative['exam2'],c='r',marker='x',s=50,label='exam2')\n",
    "ax.legend()\n",
    "ax.scatter(l1,l2,c='g')\n",
    "ax.set_xlabel('Exam1 score')\n",
    "ax.set_ylabel('Exam2 score')"
   ]
  },
  {
   "cell_type": "code",
   "execution_count": null,
   "metadata": {},
   "outputs": [],
   "source": []
  }
 ],
 "metadata": {
  "kernelspec": {
   "display_name": "Python 3",
   "language": "python",
   "name": "python3"
  },
  "language_info": {
   "codemirror_mode": {
    "name": "ipython",
    "version": 3
   },
   "file_extension": ".py",
   "mimetype": "text/x-python",
   "name": "python",
   "nbconvert_exporter": "python",
   "pygments_lexer": "ipython3",
   "version": "3.7.4"
  }
 },
 "nbformat": 4,
 "nbformat_minor": 2
}
