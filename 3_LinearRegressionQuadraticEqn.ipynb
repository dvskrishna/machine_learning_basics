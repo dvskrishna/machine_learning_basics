{
 "cells": [
  {
   "cell_type": "code",
   "execution_count": 51,
   "metadata": {},
   "outputs": [],
   "source": [
    "import matplotlib.pyplot as plt\n",
    "%matplotlib inline"
   ]
  },
  {
   "cell_type": "code",
   "execution_count": 52,
   "metadata": {},
   "outputs": [],
   "source": [
    "import pandas as pd\n",
    "import numpy as np"
   ]
  },
  {
   "cell_type": "code",
   "execution_count": 53,
   "metadata": {},
   "outputs": [],
   "source": [
    "data=pd.read_csv(\"E:\\Python\\PracticleData\\data2.txt\",names=['area','bedroom','price'])"
   ]
  },
  {
   "cell_type": "code",
   "execution_count": 54,
   "metadata": {},
   "outputs": [
    {
     "data": {
      "text/html": [
       "<div>\n",
       "<style scoped>\n",
       "    .dataframe tbody tr th:only-of-type {\n",
       "        vertical-align: middle;\n",
       "    }\n",
       "\n",
       "    .dataframe tbody tr th {\n",
       "        vertical-align: top;\n",
       "    }\n",
       "\n",
       "    .dataframe thead th {\n",
       "        text-align: right;\n",
       "    }\n",
       "</style>\n",
       "<table border=\"1\" class=\"dataframe\">\n",
       "  <thead>\n",
       "    <tr style=\"text-align: right;\">\n",
       "      <th></th>\n",
       "      <th>area</th>\n",
       "      <th>bedroom</th>\n",
       "      <th>price</th>\n",
       "    </tr>\n",
       "  </thead>\n",
       "  <tbody>\n",
       "    <tr>\n",
       "      <td>0</td>\n",
       "      <td>2104</td>\n",
       "      <td>3</td>\n",
       "      <td>399900</td>\n",
       "    </tr>\n",
       "    <tr>\n",
       "      <td>1</td>\n",
       "      <td>1600</td>\n",
       "      <td>3</td>\n",
       "      <td>329900</td>\n",
       "    </tr>\n",
       "    <tr>\n",
       "      <td>2</td>\n",
       "      <td>2400</td>\n",
       "      <td>3</td>\n",
       "      <td>369000</td>\n",
       "    </tr>\n",
       "    <tr>\n",
       "      <td>3</td>\n",
       "      <td>1416</td>\n",
       "      <td>2</td>\n",
       "      <td>232000</td>\n",
       "    </tr>\n",
       "    <tr>\n",
       "      <td>4</td>\n",
       "      <td>3000</td>\n",
       "      <td>4</td>\n",
       "      <td>539900</td>\n",
       "    </tr>\n",
       "  </tbody>\n",
       "</table>\n",
       "</div>"
      ],
      "text/plain": [
       "   area  bedroom   price\n",
       "0  2104        3  399900\n",
       "1  1600        3  329900\n",
       "2  2400        3  369000\n",
       "3  1416        2  232000\n",
       "4  3000        4  539900"
      ]
     },
     "execution_count": 54,
     "metadata": {},
     "output_type": "execute_result"
    }
   ],
   "source": [
    "data.head()"
   ]
  },
  {
   "cell_type": "code",
   "execution_count": 55,
   "metadata": {},
   "outputs": [],
   "source": [
    "data=(data-data.mean())/data.std()"
   ]
  },
  {
   "cell_type": "code",
   "execution_count": 56,
   "metadata": {},
   "outputs": [
    {
     "data": {
      "text/html": [
       "<div>\n",
       "<style scoped>\n",
       "    .dataframe tbody tr th:only-of-type {\n",
       "        vertical-align: middle;\n",
       "    }\n",
       "\n",
       "    .dataframe tbody tr th {\n",
       "        vertical-align: top;\n",
       "    }\n",
       "\n",
       "    .dataframe thead th {\n",
       "        text-align: right;\n",
       "    }\n",
       "</style>\n",
       "<table border=\"1\" class=\"dataframe\">\n",
       "  <thead>\n",
       "    <tr style=\"text-align: right;\">\n",
       "      <th></th>\n",
       "      <th>area</th>\n",
       "      <th>bedroom</th>\n",
       "      <th>price</th>\n",
       "    </tr>\n",
       "  </thead>\n",
       "  <tbody>\n",
       "    <tr>\n",
       "      <td>0</td>\n",
       "      <td>0.130010</td>\n",
       "      <td>-0.223675</td>\n",
       "      <td>0.475747</td>\n",
       "    </tr>\n",
       "    <tr>\n",
       "      <td>1</td>\n",
       "      <td>-0.504190</td>\n",
       "      <td>-0.223675</td>\n",
       "      <td>-0.084074</td>\n",
       "    </tr>\n",
       "    <tr>\n",
       "      <td>2</td>\n",
       "      <td>0.502476</td>\n",
       "      <td>-0.223675</td>\n",
       "      <td>0.228626</td>\n",
       "    </tr>\n",
       "    <tr>\n",
       "      <td>3</td>\n",
       "      <td>-0.735723</td>\n",
       "      <td>-1.537767</td>\n",
       "      <td>-0.867025</td>\n",
       "    </tr>\n",
       "    <tr>\n",
       "      <td>4</td>\n",
       "      <td>1.257476</td>\n",
       "      <td>1.090417</td>\n",
       "      <td>1.595389</td>\n",
       "    </tr>\n",
       "  </tbody>\n",
       "</table>\n",
       "</div>"
      ],
      "text/plain": [
       "       area   bedroom     price\n",
       "0  0.130010 -0.223675  0.475747\n",
       "1 -0.504190 -0.223675 -0.084074\n",
       "2  0.502476 -0.223675  0.228626\n",
       "3 -0.735723 -1.537767 -0.867025\n",
       "4  1.257476  1.090417  1.595389"
      ]
     },
     "execution_count": 56,
     "metadata": {},
     "output_type": "execute_result"
    }
   ],
   "source": [
    "data.head()"
   ]
  },
  {
   "cell_type": "code",
   "execution_count": 57,
   "metadata": {},
   "outputs": [],
   "source": [
    "#defining the method of Linear Regression\n",
    "def computeCost(X,y,theta):\n",
    "    inner=np.power(((X*theta.T)-y),2)\n",
    "    return np.sum(inner)/(2*len(X))"
   ]
  },
  {
   "cell_type": "code",
   "execution_count": 58,
   "metadata": {},
   "outputs": [],
   "source": [
    "\"\"\"#adding two more columns in dataframea\n",
    "sqr_of_area=pd.Series([]) \n",
    "sqr_of_bedroom=pd.Series([])\n",
    "for i in range(len(data)):\n",
    "    sqr_of_area[i]=data['area'][i]**2\n",
    "    sqr_of_bedroom[i]=data['bedroom'][i]**2\n",
    "data.insert(2,'sqr of area',sqr_of_area)\n",
    "data.insert(4,'sqr of bedroom',sqr_of_bedroom)\n",
    "#data.drop(columns='sqr of bedroom')\"\"\"\n",
    "\n",
    "#how to plot any degree polynomial\n",
    "degree = 2\n",
    "x1 = data['area']\n",
    "x2 = data['bedroom']\n",
    "for i in range(0,degree+1):\n",
    "    for j in range(0,degree+1):\n",
    "        if (i+j>0 and i+j<degree+1):\n",
    "            data['F'+str(i)+str(j)] = np.power(x1,i)*np.power(x2,j)"
   ]
  },
  {
   "cell_type": "code",
   "execution_count": 59,
   "metadata": {},
   "outputs": [
    {
     "data": {
      "text/html": [
       "<div>\n",
       "<style scoped>\n",
       "    .dataframe tbody tr th:only-of-type {\n",
       "        vertical-align: middle;\n",
       "    }\n",
       "\n",
       "    .dataframe tbody tr th {\n",
       "        vertical-align: top;\n",
       "    }\n",
       "\n",
       "    .dataframe thead th {\n",
       "        text-align: right;\n",
       "    }\n",
       "</style>\n",
       "<table border=\"1\" class=\"dataframe\">\n",
       "  <thead>\n",
       "    <tr style=\"text-align: right;\">\n",
       "      <th></th>\n",
       "      <th>area</th>\n",
       "      <th>bedroom</th>\n",
       "      <th>price</th>\n",
       "      <th>F01</th>\n",
       "      <th>F02</th>\n",
       "      <th>F10</th>\n",
       "      <th>F11</th>\n",
       "      <th>F20</th>\n",
       "    </tr>\n",
       "  </thead>\n",
       "  <tbody>\n",
       "    <tr>\n",
       "      <td>0</td>\n",
       "      <td>0.130010</td>\n",
       "      <td>-0.223675</td>\n",
       "      <td>0.475747</td>\n",
       "      <td>-0.223675</td>\n",
       "      <td>0.050031</td>\n",
       "      <td>0.130010</td>\n",
       "      <td>-0.029080</td>\n",
       "      <td>0.016903</td>\n",
       "    </tr>\n",
       "    <tr>\n",
       "      <td>1</td>\n",
       "      <td>-0.504190</td>\n",
       "      <td>-0.223675</td>\n",
       "      <td>-0.084074</td>\n",
       "      <td>-0.223675</td>\n",
       "      <td>0.050031</td>\n",
       "      <td>-0.504190</td>\n",
       "      <td>0.112775</td>\n",
       "      <td>0.254207</td>\n",
       "    </tr>\n",
       "    <tr>\n",
       "      <td>2</td>\n",
       "      <td>0.502476</td>\n",
       "      <td>-0.223675</td>\n",
       "      <td>0.228626</td>\n",
       "      <td>-0.223675</td>\n",
       "      <td>0.050031</td>\n",
       "      <td>0.502476</td>\n",
       "      <td>-0.112391</td>\n",
       "      <td>0.252482</td>\n",
       "    </tr>\n",
       "    <tr>\n",
       "      <td>3</td>\n",
       "      <td>-0.735723</td>\n",
       "      <td>-1.537767</td>\n",
       "      <td>-0.867025</td>\n",
       "      <td>-1.537767</td>\n",
       "      <td>2.364727</td>\n",
       "      <td>-0.735723</td>\n",
       "      <td>1.131371</td>\n",
       "      <td>0.541288</td>\n",
       "    </tr>\n",
       "    <tr>\n",
       "      <td>4</td>\n",
       "      <td>1.257476</td>\n",
       "      <td>1.090417</td>\n",
       "      <td>1.595389</td>\n",
       "      <td>1.090417</td>\n",
       "      <td>1.189008</td>\n",
       "      <td>1.257476</td>\n",
       "      <td>1.371173</td>\n",
       "      <td>1.581246</td>\n",
       "    </tr>\n",
       "  </tbody>\n",
       "</table>\n",
       "</div>"
      ],
      "text/plain": [
       "       area   bedroom     price       F01       F02       F10       F11  \\\n",
       "0  0.130010 -0.223675  0.475747 -0.223675  0.050031  0.130010 -0.029080   \n",
       "1 -0.504190 -0.223675 -0.084074 -0.223675  0.050031 -0.504190  0.112775   \n",
       "2  0.502476 -0.223675  0.228626 -0.223675  0.050031  0.502476 -0.112391   \n",
       "3 -0.735723 -1.537767 -0.867025 -1.537767  2.364727 -0.735723  1.131371   \n",
       "4  1.257476  1.090417  1.595389  1.090417  1.189008  1.257476  1.371173   \n",
       "\n",
       "        F20  \n",
       "0  0.016903  \n",
       "1  0.254207  \n",
       "2  0.252482  \n",
       "3  0.541288  \n",
       "4  1.581246  "
      ]
     },
     "execution_count": 59,
     "metadata": {},
     "output_type": "execute_result"
    }
   ],
   "source": [
    "data.head()"
   ]
  },
  {
   "cell_type": "code",
   "execution_count": 60,
   "metadata": {},
   "outputs": [],
   "source": [
    "#drop column area and bedroom as we got it as F01 and F10\n",
    "data=data.drop('area',axis=1)\n",
    "data=data.drop('bedroom',axis=1)"
   ]
  },
  {
   "cell_type": "code",
   "execution_count": 61,
   "metadata": {},
   "outputs": [
    {
     "data": {
      "text/html": [
       "<div>\n",
       "<style scoped>\n",
       "    .dataframe tbody tr th:only-of-type {\n",
       "        vertical-align: middle;\n",
       "    }\n",
       "\n",
       "    .dataframe tbody tr th {\n",
       "        vertical-align: top;\n",
       "    }\n",
       "\n",
       "    .dataframe thead th {\n",
       "        text-align: right;\n",
       "    }\n",
       "</style>\n",
       "<table border=\"1\" class=\"dataframe\">\n",
       "  <thead>\n",
       "    <tr style=\"text-align: right;\">\n",
       "      <th></th>\n",
       "      <th>price</th>\n",
       "      <th>F01</th>\n",
       "      <th>F02</th>\n",
       "      <th>F10</th>\n",
       "      <th>F11</th>\n",
       "      <th>F20</th>\n",
       "    </tr>\n",
       "  </thead>\n",
       "  <tbody>\n",
       "    <tr>\n",
       "      <td>0</td>\n",
       "      <td>0.475747</td>\n",
       "      <td>-0.223675</td>\n",
       "      <td>0.050031</td>\n",
       "      <td>0.130010</td>\n",
       "      <td>-0.029080</td>\n",
       "      <td>0.016903</td>\n",
       "    </tr>\n",
       "    <tr>\n",
       "      <td>1</td>\n",
       "      <td>-0.084074</td>\n",
       "      <td>-0.223675</td>\n",
       "      <td>0.050031</td>\n",
       "      <td>-0.504190</td>\n",
       "      <td>0.112775</td>\n",
       "      <td>0.254207</td>\n",
       "    </tr>\n",
       "    <tr>\n",
       "      <td>2</td>\n",
       "      <td>0.228626</td>\n",
       "      <td>-0.223675</td>\n",
       "      <td>0.050031</td>\n",
       "      <td>0.502476</td>\n",
       "      <td>-0.112391</td>\n",
       "      <td>0.252482</td>\n",
       "    </tr>\n",
       "    <tr>\n",
       "      <td>3</td>\n",
       "      <td>-0.867025</td>\n",
       "      <td>-1.537767</td>\n",
       "      <td>2.364727</td>\n",
       "      <td>-0.735723</td>\n",
       "      <td>1.131371</td>\n",
       "      <td>0.541288</td>\n",
       "    </tr>\n",
       "    <tr>\n",
       "      <td>4</td>\n",
       "      <td>1.595389</td>\n",
       "      <td>1.090417</td>\n",
       "      <td>1.189008</td>\n",
       "      <td>1.257476</td>\n",
       "      <td>1.371173</td>\n",
       "      <td>1.581246</td>\n",
       "    </tr>\n",
       "  </tbody>\n",
       "</table>\n",
       "</div>"
      ],
      "text/plain": [
       "      price       F01       F02       F10       F11       F20\n",
       "0  0.475747 -0.223675  0.050031  0.130010 -0.029080  0.016903\n",
       "1 -0.084074 -0.223675  0.050031 -0.504190  0.112775  0.254207\n",
       "2  0.228626 -0.223675  0.050031  0.502476 -0.112391  0.252482\n",
       "3 -0.867025 -1.537767  2.364727 -0.735723  1.131371  0.541288\n",
       "4  1.595389  1.090417  1.189008  1.257476  1.371173  1.581246"
      ]
     },
     "execution_count": 61,
     "metadata": {},
     "output_type": "execute_result"
    }
   ],
   "source": [
    "data.head()"
   ]
  },
  {
   "cell_type": "code",
   "execution_count": 62,
   "metadata": {},
   "outputs": [
    {
     "data": {
      "text/plain": [
       "pandas.core.frame.DataFrame"
      ]
     },
     "execution_count": 62,
     "metadata": {},
     "output_type": "execute_result"
    }
   ],
   "source": [
    "data.insert(1,'ones',1) ##0->column no.,  ones->new clmn name,   1->clmn value\n",
    "type(data)"
   ]
  },
  {
   "cell_type": "code",
   "execution_count": 63,
   "metadata": {},
   "outputs": [
    {
     "data": {
      "text/html": [
       "<div>\n",
       "<style scoped>\n",
       "    .dataframe tbody tr th:only-of-type {\n",
       "        vertical-align: middle;\n",
       "    }\n",
       "\n",
       "    .dataframe tbody tr th {\n",
       "        vertical-align: top;\n",
       "    }\n",
       "\n",
       "    .dataframe thead th {\n",
       "        text-align: right;\n",
       "    }\n",
       "</style>\n",
       "<table border=\"1\" class=\"dataframe\">\n",
       "  <thead>\n",
       "    <tr style=\"text-align: right;\">\n",
       "      <th></th>\n",
       "      <th>price</th>\n",
       "      <th>ones</th>\n",
       "      <th>F01</th>\n",
       "      <th>F02</th>\n",
       "      <th>F10</th>\n",
       "      <th>F11</th>\n",
       "      <th>F20</th>\n",
       "    </tr>\n",
       "  </thead>\n",
       "  <tbody>\n",
       "    <tr>\n",
       "      <td>0</td>\n",
       "      <td>0.475747</td>\n",
       "      <td>1</td>\n",
       "      <td>-0.223675</td>\n",
       "      <td>0.050031</td>\n",
       "      <td>0.130010</td>\n",
       "      <td>-0.029080</td>\n",
       "      <td>0.016903</td>\n",
       "    </tr>\n",
       "    <tr>\n",
       "      <td>1</td>\n",
       "      <td>-0.084074</td>\n",
       "      <td>1</td>\n",
       "      <td>-0.223675</td>\n",
       "      <td>0.050031</td>\n",
       "      <td>-0.504190</td>\n",
       "      <td>0.112775</td>\n",
       "      <td>0.254207</td>\n",
       "    </tr>\n",
       "    <tr>\n",
       "      <td>2</td>\n",
       "      <td>0.228626</td>\n",
       "      <td>1</td>\n",
       "      <td>-0.223675</td>\n",
       "      <td>0.050031</td>\n",
       "      <td>0.502476</td>\n",
       "      <td>-0.112391</td>\n",
       "      <td>0.252482</td>\n",
       "    </tr>\n",
       "    <tr>\n",
       "      <td>3</td>\n",
       "      <td>-0.867025</td>\n",
       "      <td>1</td>\n",
       "      <td>-1.537767</td>\n",
       "      <td>2.364727</td>\n",
       "      <td>-0.735723</td>\n",
       "      <td>1.131371</td>\n",
       "      <td>0.541288</td>\n",
       "    </tr>\n",
       "    <tr>\n",
       "      <td>4</td>\n",
       "      <td>1.595389</td>\n",
       "      <td>1</td>\n",
       "      <td>1.090417</td>\n",
       "      <td>1.189008</td>\n",
       "      <td>1.257476</td>\n",
       "      <td>1.371173</td>\n",
       "      <td>1.581246</td>\n",
       "    </tr>\n",
       "  </tbody>\n",
       "</table>\n",
       "</div>"
      ],
      "text/plain": [
       "      price  ones       F01       F02       F10       F11       F20\n",
       "0  0.475747     1 -0.223675  0.050031  0.130010 -0.029080  0.016903\n",
       "1 -0.084074     1 -0.223675  0.050031 -0.504190  0.112775  0.254207\n",
       "2  0.228626     1 -0.223675  0.050031  0.502476 -0.112391  0.252482\n",
       "3 -0.867025     1 -1.537767  2.364727 -0.735723  1.131371  0.541288\n",
       "4  1.595389     1  1.090417  1.189008  1.257476  1.371173  1.581246"
      ]
     },
     "execution_count": 63,
     "metadata": {},
     "output_type": "execute_result"
    }
   ],
   "source": [
    "data.head()"
   ]
  },
  {
   "cell_type": "code",
   "execution_count": 73,
   "metadata": {},
   "outputs": [],
   "source": [
    "##puttting value in X and y\n",
    "X=data.iloc[:,1:7]\n",
    "y=data.iloc[:,0:1]"
   ]
  },
  {
   "cell_type": "code",
   "execution_count": 74,
   "metadata": {},
   "outputs": [],
   "source": [
    "## converting dataframes into matrix\n",
    "X=np.matrix(X)\n",
    "y=np.matrix(y)\n",
    "theta=np.matrix(np.zeros((1,6))) \n",
    "#theta=np.matrix(np.ones((1,6))) as per requirement from In[111] line 3 "
   ]
  },
  {
   "cell_type": "code",
   "execution_count": 75,
   "metadata": {},
   "outputs": [
    {
     "data": {
      "text/plain": [
       "((47, 6), (47, 1), (1, 6), matrix([[0., 0., 0., 0., 0., 0.]]))"
      ]
     },
     "execution_count": 75,
     "metadata": {},
     "output_type": "execute_result"
    }
   ],
   "source": [
    "np.shape(X),np.shape(y),np.shape(theta),theta"
   ]
  },
  {
   "cell_type": "code",
   "execution_count": 76,
   "metadata": {},
   "outputs": [],
   "source": [
    "c=computeCost(X,y,theta)"
   ]
  },
  {
   "cell_type": "code",
   "execution_count": 77,
   "metadata": {},
   "outputs": [
    {
     "data": {
      "text/plain": [
       "0.48936170212765967"
      ]
     },
     "execution_count": 77,
     "metadata": {},
     "output_type": "execute_result"
    }
   ],
   "source": [
    "c"
   ]
  },
  {
   "cell_type": "code",
   "execution_count": 78,
   "metadata": {},
   "outputs": [],
   "source": [
    "def gradientDescent(X,y,theta,alpha, iterations):\n",
    "    temp = np.matrix(np.zeros((1,6)))\n",
    "    parameters = 6  #theta0,theta1,theta2\n",
    "    cost = np.zeros(iterations) #error of every iteration\n",
    "    for i in range(iterations):\n",
    "        error = (X*theta.T) - y\n",
    "        for j in range(parameters):\n",
    "            term = np.multiply(error, X[:,j]) \n",
    "            temp[0,j] = theta[0,j] - ((alpha/len(X)) * np.sum(term))\n",
    "        theta = temp\n",
    "        cost[i] = computeCost(X,y,theta) \n",
    "    return theta,cost"
   ]
  },
  {
   "cell_type": "code",
   "execution_count": 88,
   "metadata": {},
   "outputs": [],
   "source": [
    "#a,b=gradientDescent(X,y,theta,0.1,10)\n",
    "#changing the values of alpha to checking the cost (must be decreases)\n",
    "a,b=gradientDescent(X,y,theta,0.0001,100000)\n",
    "#now change the theta values from zeroes to smthing but \n",
    "#it will not change a'(as we got minimum of a at alpha=0.01 and iter=10000 ) "
   ]
  },
  {
   "cell_type": "code",
   "execution_count": 90,
   "metadata": {},
   "outputs": [
    {
     "data": {
      "text/plain": [
       "(matrix([[ 0.04444959, -0.06551788, -0.09545666,  0.87212419,  0.13800265,\n",
       "          -0.03832883]]),\n",
       " '\\t',\n",
       " array([0.48913704, 0.48891263, 0.48868847, ..., 0.12378315, 0.12378307,\n",
       "        0.12378299]))"
      ]
     },
     "execution_count": 90,
     "metadata": {},
     "output_type": "execute_result"
    }
   ],
   "source": [
    "a,\"\\t\",b   "
   ]
  },
  {
   "cell_type": "code",
   "execution_count": 91,
   "metadata": {},
   "outputs": [
    {
     "data": {
      "text/plain": [
       "[<matplotlib.lines.Line2D at 0x20e202f43c8>]"
      ]
     },
     "execution_count": 91,
     "metadata": {},
     "output_type": "execute_result"
    },
    {
     "data": {
      "image/png": "[encoded data removed]",
      "text/plain": [
       "<Figure size 864x576 with 1 Axes>"
      ]
     },
     "metadata": {
      "needs_background": "light"
     },
     "output_type": "display_data"
    }
   ],
   "source": [
    "fig,ax = plt.subplots(figsize=(12,8))                          \n",
    "x=np.arange(100000)\n",
    "y=b\n",
    "ax.plot(x,y,'r')                                                  \n",
    "#ax.scatter(b, np.arange(100000))                       "
   ]
  },
  {
   "cell_type": "code",
   "execution_count": null,
   "metadata": {},
   "outputs": [],
   "source": []
  }
 ],
 "metadata": {
  "kernelspec": {
   "display_name": "Python 3",
   "language": "python",
   "name": "python3"
  },
  "language_info": {
   "codemirror_mode": {
    "name": "ipython",
    "version": 3
   },
   "file_extension": ".py",
   "mimetype": "text/x-python",
   "name": "python",
   "nbconvert_exporter": "python",
   "pygments_lexer": "ipython3",
   "version": "3.7.4"
  }
 },
 "nbformat": 4,
 "nbformat_minor": 2
}
