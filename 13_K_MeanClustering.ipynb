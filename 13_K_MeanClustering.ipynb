{
 "cells": [
  {
   "cell_type": "code",
   "execution_count": 142,
   "metadata": {},
   "outputs": [],
   "source": [
    "import os\n",
    "import matplotlib.pyplot as plt\n",
    "%matplotlib inline\n",
    "import pandas as pd \n",
    "import numpy as np\n",
    "from scipy.io import loadmat"
   ]
  },
  {
   "cell_type": "code",
   "execution_count": 143,
   "metadata": {},
   "outputs": [],
   "source": [
    "data=loadmat(\"E:\\Python\\PracticleData\\ex7data2.mat\")"
   ]
  },
  {
   "cell_type": "code",
   "execution_count": 144,
   "metadata": {},
   "outputs": [
    {
     "data": {
      "text/plain": [
       "dict"
      ]
     },
     "execution_count": 144,
     "metadata": {},
     "output_type": "execute_result"
    }
   ],
   "source": [
    "type(data)"
   ]
  },
  {
   "cell_type": "code",
   "execution_count": null,
   "metadata": {},
   "outputs": [],
   "source": [
    "X=data['X']"
   ]
  },
  {
   "cell_type": "code",
   "execution_count": 219,
   "metadata": {},
   "outputs": [
    {
     "data": {
      "text/plain": [
       "numpy.ndarray"
      ]
     },
     "execution_count": 219,
     "metadata": {},
     "output_type": "execute_result"
    }
   ],
   "source": [
    "type(X)\n"
   ]
  },
  {
   "cell_type": "code",
   "execution_count": 146,
   "metadata": {},
   "outputs": [],
   "source": [
    "x1=X[:,0:1]\n",
    "x2=X[:,1:2]"
   ]
  },
  {
   "cell_type": "code",
   "execution_count": 220,
   "metadata": {},
   "outputs": [
    {
     "data": {
      "text/plain": [
       "array([[ 1.84207953],\n",
       "       [ 5.65858312],\n",
       "       [ 6.35257892],\n",
       "       [ 2.90401653],\n",
       "       [ 3.23197916],\n",
       "       [ 1.24792268],\n",
       "       [ 1.97619886],\n",
       "       [ 2.23454135],\n",
       "       [ 2.98340757],\n",
       "       [ 2.97970391],\n",
       "       [ 2.11496411],\n",
       "       [ 2.12169543],\n",
       "       [ 1.5143529 ],\n",
       "       [ 2.16979227],\n",
       "       [ 0.41852373],\n",
       "       [ 2.47053695],\n",
       "       [ 4.06069132],\n",
       "       [ 3.00708934],\n",
       "       [ 0.66632346],\n",
       "       [ 3.1621865 ],\n",
       "       [ 0.51155258],\n",
       "       [ 3.1342801 ],\n",
       "       [ 2.04974595],\n",
       "       [ 0.66582785],\n",
       "       [ 1.01732013],\n",
       "       [ 2.17893568],\n",
       "       [ 2.85962615],\n",
       "       [ 1.30882588],\n",
       "       [ 0.99253246],\n",
       "       [ 1.40372638],\n",
       "       [ 2.66046572],\n",
       "       [ 2.79995882],\n",
       "       [ 2.06995345],\n",
       "       [ 3.29765181],\n",
       "       [ 1.8929766 ],\n",
       "       [ 2.55983064],\n",
       "       [ 1.15354031],\n",
       "       [ 2.25150754],\n",
       "       [ 2.20960296],\n",
       "       [ 1.59141937],\n",
       "       [ 1.67838038],\n",
       "       [ 2.59148642],\n",
       "       [ 2.80996442],\n",
       "       [ 0.95311627],\n",
       "       [ 1.51775276],\n",
       "       [ 3.23114248],\n",
       "       [ 2.54180011],\n",
       "       [ 3.81422865],\n",
       "       [ 1.68495829],\n",
       "       [ 2.17777173],\n",
       "       [ 1.8173328 ],\n",
       "       [ 1.85776553],\n",
       "       [ 3.03084301],\n",
       "       [ 2.92658295],\n",
       "       [ 3.43493543],\n",
       "       [ 3.20367116],\n",
       "       [ 0.10511804],\n",
       "       [ 1.40597916],\n",
       "       [ 2.24185052],\n",
       "       [ 1.36678395],\n",
       "       [ 1.70725482],\n",
       "       [ 1.91909566],\n",
       "       [ 1.60156731],\n",
       "       [ 0.37963437],\n",
       "       [ 2.02134502],\n",
       "       [ 1.12036737],\n",
       "       [ 2.26901428],\n",
       "       [-0.24512713],\n",
       "       [ 2.12857843],\n",
       "       [ 1.84419981],\n",
       "       [ 2.32558253],\n",
       "       [ 1.52334113],\n",
       "       [ 1.02285128],\n",
       "       [ 1.85382737],\n",
       "       [ 2.20321658],\n",
       "       [ 1.20099981],\n",
       "       [ 1.02062703],\n",
       "       [ 1.60493227],\n",
       "       [ 0.47647355],\n",
       "       [ 0.3639172 ],\n",
       "       [ 0.31319845],\n",
       "       [ 2.28664839],\n",
       "       [ 2.15460139],\n",
       "       [ 2.05288518],\n",
       "       [ 4.88804332],\n",
       "       [ 2.40304747],\n",
       "       [ 2.56869453],\n",
       "       [ 1.82975993],\n",
       "       [ 0.54845223],\n",
       "       [ 3.17109619],\n",
       "       [ 3.04202069],\n",
       "       [ 2.40427775],\n",
       "       [ 0.17783466],\n",
       "       [ 2.61428678],\n",
       "       [ 2.30097798],\n",
       "       [ 3.90779317],\n",
       "       [ 2.05670542],\n",
       "       [ 1.38133497],\n",
       "       [ 1.16074178],\n",
       "       [ 1.72818199],\n",
       "       [ 3.20360621],\n",
       "       [ 3.06192918],\n",
       "       [ 4.01714917],\n",
       "       [ 1.40260822],\n",
       "       [ 4.08164951],\n",
       "       [ 3.15273081],\n",
       "       [ 3.45186351],\n",
       "       [ 3.85384314],\n",
       "       [ 1.57449255],\n",
       "       [ 4.72372078],\n",
       "       [ 2.87961084],\n",
       "       [ 0.96791348],\n",
       "       [ 1.53178107],\n",
       "       [ 4.13835915],\n",
       "       [ 3.16109021],\n",
       "       [ 2.95177039],\n",
       "       [ 3.27844295],\n",
       "       [ 2.1270185 ],\n",
       "       [ 3.32648885],\n",
       "       [ 2.54371489],\n",
       "       [ 3.233947  ],\n",
       "       [ 4.43152976],\n",
       "       [ 3.56478625],\n",
       "       [ 4.25588482],\n",
       "       [ 4.05386581],\n",
       "       [ 3.08970176],\n",
       "       [ 2.84734459],\n",
       "       [ 3.63586049],\n",
       "       [ 1.95538864],\n",
       "       [ 2.88384005],\n",
       "       [ 3.48444387],\n",
       "       [ 3.49798412],\n",
       "       [ 2.45575934],\n",
       "       [ 3.2038001 ],\n",
       "       [ 3.00677254],\n",
       "       [ 1.96547974],\n",
       "       [ 2.17989333],\n",
       "       [ 2.61207029],\n",
       "       [ 3.95549912],\n",
       "       [ 3.64846482],\n",
       "       [ 4.18450011],\n",
       "       [ 3.7875723 ],\n",
       "       [ 3.30063655],\n",
       "       [ 3.02836363],\n",
       "       [ 3.18412176],\n",
       "       [ 4.16911897],\n",
       "       [ 3.24024211],\n",
       "       [ 3.91596068],\n",
       "       [ 2.96979716],\n",
       "       [ 1.12993856],\n",
       "       [ 2.71730799],\n",
       "       [ 3.1189017 ],\n",
       "       [ 2.4051802 ],\n",
       "       [ 2.95818429],\n",
       "       [ 1.65456309],\n",
       "       [ 2.39775807],\n",
       "       [ 2.28409305],\n",
       "       [ 2.79588724],\n",
       "       [ 3.41156277],\n",
       "       [ 3.50663521],\n",
       "       [ 3.93616029],\n",
       "       [ 3.90206657],\n",
       "       [ 2.61036396],\n",
       "       [ 4.37271861],\n",
       "       [ 3.08349136],\n",
       "       [ 2.1159935 ],\n",
       "       [ 2.15653404],\n",
       "       [ 2.14491101],\n",
       "       [ 1.84935524],\n",
       "       [ 4.1590816 ],\n",
       "       [ 2.76494499],\n",
       "       [ 3.90561153],\n",
       "       [ 2.54071672],\n",
       "       [ 4.27783068],\n",
       "       [ 3.31058167],\n",
       "       [ 2.15520661],\n",
       "       [ 3.71363659],\n",
       "       [ 3.54010186],\n",
       "       [ 1.60519991],\n",
       "       [ 1.75164337],\n",
       "       [ 3.12405123],\n",
       "       [ 2.37198785],\n",
       "       [ 2.53446019],\n",
       "       [ 3.6834465 ],\n",
       "       [ 3.2670134 ],\n",
       "       [ 3.94159139],\n",
       "       [ 3.2645514 ],\n",
       "       [ 4.30471138],\n",
       "       [ 2.68499376],\n",
       "       [ 3.12635184],\n",
       "       [ 2.94294356],\n",
       "       [ 3.11876541],\n",
       "       [ 2.02358978],\n",
       "       [ 3.62202931],\n",
       "       [ 2.42865879],\n",
       "       [ 2.09517296],\n",
       "       [ 5.29239452],\n",
       "       [ 2.07291709],\n",
       "       [ 0.94623208],\n",
       "       [ 2.73911908],\n",
       "       [ 6.00506534],\n",
       "       [ 6.05696411],\n",
       "       [ 6.77012767],\n",
       "       [ 5.64034678],\n",
       "       [ 5.63325403],\n",
       "       [ 6.17443157],\n",
       "       [ 7.24694794],\n",
       "       [ 5.58162906],\n",
       "       [ 5.3627205 ],\n",
       "       [ 4.70775773],\n",
       "       [ 7.42892098],\n",
       "       [ 6.64107248],\n",
       "       [ 6.37473652],\n",
       "       [ 7.28780324],\n",
       "       [ 6.20295231],\n",
       "       [ 5.38736041],\n",
       "       [ 5.6673103 ],\n",
       "       [ 6.59702155],\n",
       "       [ 7.75660559],\n",
       "       [ 6.63262745],\n",
       "       [ 5.76634959],\n",
       "       [ 5.99423154],\n",
       "       [ 6.37870407],\n",
       "       [ 5.74036233],\n",
       "       [ 4.61652442],\n",
       "       [ 5.33533999],\n",
       "       [ 5.37293912],\n",
       "       [ 5.03611162],\n",
       "       [ 5.52908677],\n",
       "       [ 6.05086942],\n",
       "       [ 5.132009  ],\n",
       "       [ 5.73284945],\n",
       "       [ 6.78110732],\n",
       "       [ 6.44834449],\n",
       "       [ 6.39941482],\n",
       "       [ 5.86067925],\n",
       "       [ 6.44765183],\n",
       "       [ 5.36708111],\n",
       "       [ 5.88735565],\n",
       "       [ 3.96162465],\n",
       "       [ 6.28438193],\n",
       "       [ 4.20584789],\n",
       "       [ 5.32615581],\n",
       "       [ 7.17135204],\n",
       "       [ 7.4949275 ],\n",
       "       [ 7.39807241],\n",
       "       [ 5.02432984],\n",
       "       [ 5.31712478],\n",
       "       [ 5.87655237],\n",
       "       [ 6.03762833],\n",
       "       [ 5.91280273],\n",
       "       [ 6.69451358],\n",
       "       [ 6.01017978],\n",
       "       [ 6.92721968],\n",
       "       [ 6.33559522],\n",
       "       [ 6.24257071],\n",
       "       [ 5.57812294],\n",
       "       [ 6.40773863],\n",
       "       [ 6.80029526],\n",
       "       [ 7.21684033],\n",
       "       [ 6.5110074 ],\n",
       "       [ 4.60630534],\n",
       "       [ 7.65503226],\n",
       "       [ 5.50295759],\n",
       "       [ 6.63060699],\n",
       "       [ 3.45928006],\n",
       "       [ 8.20339815],\n",
       "       [ 4.95679428],\n",
       "       [ 5.37052667],\n",
       "       [ 5.69797866],\n",
       "       [ 6.27376271],\n",
       "       [ 5.05274526],\n",
       "       [ 6.88575584],\n",
       "       [ 4.1877442 ],\n",
       "       [ 5.97510328],\n",
       "       [ 6.09457129],\n",
       "       [ 5.72395697],\n",
       "       [ 4.37249767],\n",
       "       [ 6.29206262],\n",
       "       [ 5.14533035],\n",
       "       [ 6.5870565 ],\n",
       "       [ 5.78769095],\n",
       "       [ 6.72798098],\n",
       "       [ 6.64078939],\n",
       "       [ 6.23228878],\n",
       "       [ 6.21772724],\n",
       "       [ 5.78116301],\n",
       "       [ 6.62447253],\n",
       "       [ 5.19590823],\n",
       "       [ 5.87177181],\n",
       "       [ 5.89562099],\n",
       "       [ 5.6175432 ],\n",
       "       [ 5.63176103],\n",
       "       [ 5.50258659],\n",
       "       [ 6.48212628],\n",
       "       [ 7.30278708],\n",
       "       [ 6.99198434],\n",
       "       [ 4.8255341 ],\n",
       "       [ 6.11768055],\n",
       "       [ 0.94048944]])"
      ]
     },
     "execution_count": 220,
     "metadata": {},
     "output_type": "execute_result"
    }
   ],
   "source": [
    "x1"
   ]
  },
  {
   "cell_type": "code",
   "execution_count": 147,
   "metadata": {},
   "outputs": [
    {
     "data": {
      "image/png": "[encoded data removed]",
      "text/plain": [
       "<Figure size 864x576 with 1 Axes>"
      ]
     },
     "metadata": {
      "needs_background": "light"
     },
     "output_type": "display_data"
    }
   ],
   "source": [
    "fig,ax = plt.subplots(figsize=(12,8)) \n",
    "k=3\n",
    "x=x1\n",
    "y=x2\n",
    "#ax.plot(x,y,'r')\n",
    "ax.scatter(x,y,color='k')\n",
    "colmap={1:'r',2:'g',3:'b'}"
   ]
  },
  {
   "cell_type": "code",
   "execution_count": 148,
   "metadata": {},
   "outputs": [],
   "source": [
    "#initial_centroid=np.array([[3,3],[6,2],[8,5]])"
   ]
  },
  {
   "cell_type": "code",
   "execution_count": 149,
   "metadata": {},
   "outputs": [],
   "source": [
    "#idx=find_closest_centroid(X,initial_centroid)"
   ]
  },
  {
   "cell_type": "code",
   "execution_count": 150,
   "metadata": {},
   "outputs": [],
   "source": [
    "from sklearn.cluster import KMeans"
   ]
  },
  {
   "cell_type": "code",
   "execution_count": 221,
   "metadata": {},
   "outputs": [],
   "source": [
    "kmean=KMeans(n_clusters=3)"
   ]
  },
  {
   "cell_type": "code",
   "execution_count": 222,
   "metadata": {},
   "outputs": [
    {
     "data": {
      "text/plain": [
       "KMeans(algorithm='auto', copy_x=True, init='k-means++', max_iter=300,\n",
       "       n_clusters=3, n_init=10, n_jobs=None, precompute_distances='auto',\n",
       "       random_state=None, tol=0.0001, verbose=0)"
      ]
     },
     "execution_count": 222,
     "metadata": {},
     "output_type": "execute_result"
    }
   ],
   "source": [
    "kmean.fit(X)"
   ]
  },
  {
   "cell_type": "code",
   "execution_count": 223,
   "metadata": {},
   "outputs": [],
   "source": [
    "kmc=kmean.cluster_centers_"
   ]
  },
  {
   "cell_type": "code",
   "execution_count": 224,
   "metadata": {},
   "outputs": [
    {
     "data": {
      "text/plain": [
       "array([[1.95399466, 5.02557006],\n",
       "       [3.04367119, 1.01541041],\n",
       "       [6.03366736, 3.00052511]])"
      ]
     },
     "execution_count": 224,
     "metadata": {},
     "output_type": "execute_result"
    }
   ],
   "source": [
    "kmc"
   ]
  },
  {
   "cell_type": "code",
   "execution_count": 225,
   "metadata": {},
   "outputs": [
    {
     "data": {
      "text/plain": [
       "\"    \\nax.scatter(3.0956359 , 1.02453945,s=200,c='g',marker='s')\\nax.scatter(3.14354358, 5.12052786 ,s=200,c='b',marker='s')\\nax.scatter(6.32673821, 2.87558353,s=200,c='r',marker='s')\\nax.scatter(0.73004431, 5.06478869,s=200,c='y',marker='s')\\nax.scatter(1.91663963, 0.98205563,s=200,c='grey',marker='s')\\nax.scatter(7.25406927, 3.05879758,s=200,c='brown',marker='s')\\nax.scatter(4.3270129 , 2.87317954,s=200,c='orange',marker='s')\\nax.scatter(4.10775054, 0.89893724,s=200,c='cyan',marker='s')\\nax.scatter(5.51442077, 3.04463349,s=200,c='purple',marker='s')\\nax.scatter(1.95797459, 4.96257069,s=200,c='pink',marker='s')\""
      ]
     },
     "execution_count": 225,
     "metadata": {},
     "output_type": "execute_result"
    },
    {
     "data": {
      "image/png": "[encoded data removed]",
      "text/plain": [
       "<Figure size 864x576 with 1 Axes>"
      ]
     },
     "metadata": {
      "needs_background": "light"
     },
     "output_type": "display_data"
    }
   ],
   "source": [
    "fig,ax = plt.subplots(figsize=(12,8)) \n",
    "ax.scatter(x,y,c='black')\n",
    "colmap={0:'pink',1:'r',2:'g',3:'b',4:'y',5:'grey',6:'brown',7:'orange',8:'cyan',9:'purple',10:'purple',11:'y'}\n",
    "\"\"\"ax.scatter(3,3,s=200,c='g',marker='s')\n",
    "ax.scatter(6,2,s=200,c='b',marker='s')\n",
    "ax.scatter(8,5,s=200,c='r',marker='s')\n",
    "ax.scatter(7,3,s=200,c='y',marker='s')\n",
    "ax.scatter(4,3,s=200,c='grey',marker='s')\"\"\"\n",
    "for i in range(0,len(kmc)):\n",
    "    ax.scatter(kmc[i][0] ,kmc[i][1],s=200,c='r',marker='s')\n",
    "\"\"\"    \n",
    "ax.scatter(3.0956359 , 1.02453945,s=200,c='g',marker='s')\n",
    "ax.scatter(3.14354358, 5.12052786 ,s=200,c='b',marker='s')\n",
    "ax.scatter(6.32673821, 2.87558353,s=200,c='r',marker='s')\n",
    "ax.scatter(0.73004431, 5.06478869,s=200,c='y',marker='s')\n",
    "ax.scatter(1.91663963, 0.98205563,s=200,c='grey',marker='s')\n",
    "ax.scatter(7.25406927, 3.05879758,s=200,c='brown',marker='s')\n",
    "ax.scatter(4.3270129 , 2.87317954,s=200,c='orange',marker='s')\n",
    "ax.scatter(4.10775054, 0.89893724,s=200,c='cyan',marker='s')\n",
    "ax.scatter(5.51442077, 3.04463349,s=200,c='purple',marker='s')\n",
    "ax.scatter(1.95797459, 4.96257069,s=200,c='pink',marker='s')\"\"\""
   ]
  },
  {
   "cell_type": "code",
   "execution_count": 226,
   "metadata": {},
   "outputs": [
    {
     "data": {
      "text/plain": [
       "array([0, 2, 2, 0, 0, 0, 0, 0, 0, 0, 0, 0, 0, 0, 0, 0, 0, 0, 0, 0, 0, 0,\n",
       "       0, 0, 0, 0, 0, 0, 0, 0, 0, 0, 0, 0, 0, 0, 0, 0, 0, 0, 0, 0, 0, 0,\n",
       "       0, 0, 0, 0, 0, 0, 0, 0, 0, 0, 0, 0, 0, 0, 0, 0, 0, 0, 0, 0, 0, 0,\n",
       "       0, 0, 0, 0, 0, 0, 0, 0, 0, 0, 0, 0, 0, 0, 0, 0, 0, 0, 2, 0, 0, 0,\n",
       "       0, 0, 0, 0, 0, 0, 0, 0, 0, 0, 0, 0, 1, 1, 1, 1, 1, 1, 1, 1, 1, 1,\n",
       "       1, 1, 1, 1, 1, 1, 1, 1, 1, 1, 1, 1, 1, 1, 1, 1, 1, 1, 1, 1, 1, 1,\n",
       "       1, 1, 1, 1, 1, 1, 1, 1, 1, 1, 1, 1, 1, 1, 1, 1, 1, 1, 1, 1, 1, 1,\n",
       "       1, 1, 1, 1, 1, 1, 1, 1, 1, 1, 1, 1, 1, 1, 1, 1, 1, 1, 1, 1, 1, 1,\n",
       "       1, 1, 1, 1, 1, 1, 1, 1, 1, 1, 1, 1, 1, 1, 1, 1, 1, 1, 1, 1, 1, 1,\n",
       "       1, 1, 2, 2, 2, 2, 2, 2, 2, 2, 2, 2, 2, 2, 2, 2, 2, 2, 2, 2, 2, 2,\n",
       "       2, 2, 2, 2, 2, 2, 2, 2, 2, 2, 2, 2, 2, 2, 2, 2, 2, 2, 2, 1, 2, 2,\n",
       "       2, 2, 2, 2, 2, 2, 2, 2, 2, 2, 2, 2, 2, 2, 2, 2, 2, 2, 2, 2, 2, 2,\n",
       "       2, 1, 2, 2, 2, 2, 2, 2, 2, 2, 2, 2, 2, 2, 2, 2, 2, 2, 2, 2, 2, 2,\n",
       "       2, 2, 2, 2, 2, 2, 2, 2, 2, 2, 2, 2, 2, 0])"
      ]
     },
     "execution_count": 226,
     "metadata": {},
     "output_type": "execute_result"
    }
   ],
   "source": [
    "kmean.labels_"
   ]
  },
  {
   "cell_type": "code",
   "execution_count": 227,
   "metadata": {},
   "outputs": [],
   "source": [
    "sampleTest=np.array([3.0,3.0])"
   ]
  },
  {
   "cell_type": "code",
   "execution_count": 228,
   "metadata": {},
   "outputs": [],
   "source": [
    "secondTest=sampleTest.reshape(1,-1)"
   ]
  },
  {
   "cell_type": "code",
   "execution_count": 229,
   "metadata": {},
   "outputs": [
    {
     "data": {
      "text/plain": [
       "array([1])"
      ]
     },
     "execution_count": 229,
     "metadata": {},
     "output_type": "execute_result"
    }
   ],
   "source": [
    "kmean.predict(secondTest)"
   ]
  },
  {
   "cell_type": "code",
   "execution_count": 230,
   "metadata": {},
   "outputs": [
    {
     "data": {
      "text/plain": [
       "array([[3., 3.]])"
      ]
     },
     "execution_count": 230,
     "metadata": {},
     "output_type": "execute_result"
    }
   ],
   "source": [
    "secondTest"
   ]
  },
  {
   "cell_type": "code",
   "execution_count": null,
   "metadata": {},
   "outputs": [],
   "source": []
  },
  {
   "cell_type": "code",
   "execution_count": null,
   "metadata": {},
   "outputs": [],
   "source": []
  }
 ],
 "metadata": {
  "kernelspec": {
   "display_name": "Python 3",
   "language": "python",
   "name": "python3"
  },
  "language_info": {
   "codemirror_mode": {
    "name": "ipython",
    "version": 3
   },
   "file_extension": ".py",
   "mimetype": "text/x-python",
   "name": "python",
   "nbconvert_exporter": "python",
   "pygments_lexer": "ipython3",
   "version": "3.7.4"
  }
 },
 "nbformat": 4,
 "nbformat_minor": 2
}
